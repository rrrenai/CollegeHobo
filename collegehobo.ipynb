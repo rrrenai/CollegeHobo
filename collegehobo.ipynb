{
 "cells": [
  {
   "cell_type": "markdown",
   "metadata": {},
   "source": [
    "NAME: CollegeHobo\n",
    "\n",
    "PURPOSE: Gather info about colleges and make it looky prreettyy :)\n",
    "\n",
    "WHY: Helpful for me\n",
    "\n",
    "Documentation for API: https://collegescorecard.ed.gov/data/api-documentation/\n",
    "\n",
    "Slack UID: U05RF62G79U"
   ]
  },
  {
   "cell_type": "code",
   "execution_count": 2,
   "metadata": {},
   "outputs": [
    {
     "name": "stdout",
     "output_type": "stream",
     "text": [
      "Requirement already satisfied: requests in c:\\python312\\lib\\site-packages (2.32.3)\n",
      "Requirement already satisfied: charset-normalizer<4,>=2 in c:\\python312\\lib\\site-packages (from requests) (3.4.0)\n",
      "Requirement already satisfied: idna<4,>=2.5 in c:\\python312\\lib\\site-packages (from requests) (3.10)\n",
      "Requirement already satisfied: urllib3<3,>=1.21.1 in c:\\python312\\lib\\site-packages (from requests) (2.2.3)\n",
      "Requirement already satisfied: certifi>=2017.4.17 in c:\\python312\\lib\\site-packages (from requests) (2024.8.30)\n",
      "Note: you may need to restart the kernel to use updated packages.\n"
     ]
    },
    {
     "name": "stderr",
     "output_type": "stream",
     "text": [
      "\n",
      "[notice] A new release of pip is available: 24.0 -> 24.3.1\n",
      "[notice] To update, run: python.exe -m pip install --upgrade pip\n"
     ]
    }
   ],
   "source": [
    "pip install requests"
   ]
  },
  {
   "cell_type": "code",
   "execution_count": 3,
   "metadata": {},
   "outputs": [],
   "source": [
    "import requests\n",
    "import json"
   ]
  },
  {
   "cell_type": "code",
   "execution_count": 4,
   "metadata": {},
   "outputs": [
    {
     "name": "stdout",
     "output_type": "stream",
     "text": [
      "200\n"
     ]
    }
   ],
   "source": [
    "url = \"https://api.data.gov/ed/collegescorecard/v1/schools\" + \"?api_key=\" + \"zaW8unu7vsyT66wxggZj9aRcw9slG9u16QneDovI\" + \"&\"\n",
    "\n",
    "response = requests.get(url)\n",
    "print(response.status_code)"
   ]
  },
  {
   "cell_type": "code",
   "execution_count": 5,
   "metadata": {},
   "outputs": [],
   "source": [
    "def url_build(url_link, school = \"\", state = \"\", city = \"\", fields=\"\"):\n",
    "    out = url_link\n",
    "\n",
    "    if school:\n",
    "        out += 'school.name=' + school + '&'\n",
    "    if state:\n",
    "        out += 'school.state=' + state + '&'\n",
    "    if city:\n",
    "        out += 'school.city=' + city + '&'\n",
    "    if fields:\n",
    "        out += 'fields=' + fields + '&'\n",
    "    return out"
   ]
  },
  {
   "cell_type": "code",
   "execution_count": 6,
   "metadata": {},
   "outputs": [],
   "source": [
    "def jprint(obj):\n",
    "    text = json.dumps(obj, sort_keys=True, indent=4)\n",
    "    print(text)"
   ]
  },
  {
   "cell_type": "code",
   "execution_count": null,
   "metadata": {},
   "outputs": [
    {
     "name": "stdout",
     "output_type": "stream",
     "text": [
      "1) Berkeley College-Woodland Park\n",
      "2) Berkeley College-New York\n",
      "3) University of California-Berkeley\n",
      "4) Acupuncture and Integrative Medicine College-Berkeley\n",
      "5) Berkeley School of Theology\n",
      "6) Berkeley City College\n"
     ]
    }
   ],
   "source": [
    "school = []\n",
    "\n",
    "while len(school) == 0:\n",
    "    query = input('What school do you want to look up? ')\n",
    "\n",
    "    query_data = requests.get(url_build(url, query))\n",
    "    temp = query_data.json()\n",
    "\n",
    "    school = temp['results']\n",
    "\n",
    "for i in range(0, len(school)):\n",
    "    print(str(i + 1) + ') ' + school[i]['latest']['school']['name'])\n",
    "\n",
    "def select_school(num_schools):\n",
    "    temp = input(\"Enter the list number of the school you're looking for: \")\n",
    "    \n",
    "    while not temp.isdigit():\n",
    "        temp = input(\"Please enter a NUMBER on the list: \")\n",
    "\n",
    "    while not temp in range(0, num_schools):\n",
    "        temp = input('Please input a number on the LIST: ')\n",
    "\n",
    "    return int(temp) - 1\n",
    "\n",
    "select_school(len(school))\n",
    "\n",
    "#choice_num = int(input(\"Enter the list number of the school you're looking for: \")) - 1\n",
    "\n",
    "# choice = school[choice_num]['latest']\n",
    "\n",
    "# print('Selection:', choice['school']['name'])"
   ]
  },
  {
   "cell_type": "code",
   "execution_count": null,
   "metadata": {},
   "outputs": [
    {
     "ename": "NameError",
     "evalue": "name 'choice' is not defined",
     "output_type": "error",
     "traceback": [
      "\u001b[1;31m---------------------------------------------------------------------------\u001b[0m",
      "\u001b[1;31mNameError\u001b[0m                                 Traceback (most recent call last)",
      "Cell \u001b[1;32mIn[11], line 1\u001b[0m\n\u001b[1;32m----> 1\u001b[0m choice_school \u001b[38;5;241m=\u001b[39m \u001b[43mchoice\u001b[49m[\u001b[38;5;124m'\u001b[39m\u001b[38;5;124mschool\u001b[39m\u001b[38;5;124m'\u001b[39m]\n\u001b[0;32m      2\u001b[0m choice_admissions \u001b[38;5;241m=\u001b[39m choice[\u001b[38;5;124m'\u001b[39m\u001b[38;5;124madmissions\u001b[39m\u001b[38;5;124m'\u001b[39m]\n\u001b[0;32m      3\u001b[0m choice_cost \u001b[38;5;241m=\u001b[39m choice[\u001b[38;5;124m'\u001b[39m\u001b[38;5;124mcost\u001b[39m\u001b[38;5;124m'\u001b[39m]\n",
      "\u001b[1;31mNameError\u001b[0m: name 'choice' is not defined"
     ]
    }
   ],
   "source": [
    "choice_school = choice['school']\n",
    "choice_admissions = choice['admissions']\n",
    "choice_cost = choice['cost']\n",
    "choice_aid = choice['aid']\n",
    "\n",
    "print('Profile for', choice_school['name'])\n",
    "print('Acceptance rate:', format(choice_admissions['admission_rate']['overall'], '.0%'))\n",
    "for key in choice_admissions['sat_scores']['75th_percentile']:\n",
    "    print('SAT', end=' ')\n",
    "    print(key, ':', choice_admissions['sat_scores']['75th_percentile'][key])"
   ]
  }
 ],
 "metadata": {
  "kernelspec": {
   "display_name": "Python 3",
   "language": "python",
   "name": "python3"
  },
  "language_info": {
   "codemirror_mode": {
    "name": "ipython",
    "version": 3
   },
   "file_extension": ".py",
   "mimetype": "text/x-python",
   "name": "python",
   "nbconvert_exporter": "python",
   "pygments_lexer": "ipython3",
   "version": "3.12.3"
  }
 },
 "nbformat": 4,
 "nbformat_minor": 2
}
