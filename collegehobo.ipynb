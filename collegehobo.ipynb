{
 "cells": [
  {
   "cell_type": "markdown",
   "metadata": {},
   "source": [
    "NAME: CollegeHobo\n",
    "\n",
    "PURPOSE: Gather info about colleges and make it looky prreettyy :)\n",
    "\n",
    "WHY: Helpful for me\n",
    "\n",
    "Documentation for API: https://collegescorecard.ed.gov/data/api-documentation/\n",
    "\n",
    "Slack UID: U05RF62G79U"
   ]
  },
  {
   "cell_type": "code",
   "execution_count": null,
   "metadata": {},
   "outputs": [],
   "source": [
    "pip install requests"
   ]
  },
  {
   "cell_type": "code",
   "execution_count": 39,
   "metadata": {},
   "outputs": [],
   "source": [
    "import requests\n",
    "import json"
   ]
  },
  {
   "cell_type": "code",
   "execution_count": 3,
   "metadata": {},
   "outputs": [
    {
     "name": "stdout",
     "output_type": "stream",
     "text": [
      "200\n"
     ]
    }
   ],
   "source": [
    "url = \"https://api.data.gov/ed/collegescorecard/v1/schools\" + \"?api_key=\" + \"zaW8unu7vsyT66wxggZj9aRcw9slG9u16QneDovI\" + \"&\"\n",
    "\n",
    "response = requests.get(url)\n",
    "print(response.status_code)"
   ]
  },
  {
   "cell_type": "code",
   "execution_count": 4,
   "metadata": {},
   "outputs": [],
   "source": [
    "def url_build(url_link, school = \"\", state = \"\", city = \"\", fields=\"\"):\n",
    "    out = url_link\n",
    "\n",
    "    if school:\n",
    "        out += 'school.name=' + school + '&'\n",
    "    if state:\n",
    "        out += 'school.state=' + state + '&'\n",
    "    if city:\n",
    "        out += 'school.city=' + city + '&'\n",
    "    if fields:\n",
    "        out += 'fields=' + fields + '&'\n",
    "    return out"
   ]
  },
  {
   "cell_type": "code",
   "execution_count": 133,
   "metadata": {},
   "outputs": [],
   "source": [
    "def jprint(obj):\n",
    "    text = json.dumps(obj, sort_keys=True, indent=4)\n",
    "    print(text)"
   ]
  },
  {
   "cell_type": "code",
   "execution_count": null,
   "metadata": {},
   "outputs": [
    {
     "name": "stdout",
     "output_type": "stream",
     "text": [
      "1) University of California-San Francisco\n",
      "2) Saint Mary's College of California\n",
      "3) California State University Maritime Academy\n",
      "4) Westminster Theological Seminary in California\n",
      "5) Southern California Institute of Technology\n",
      "6) California Aeronautical University\n",
      "7) California Healing Arts College\n",
      "8) NTMA Training Centers of Southern California\n",
      "9) California State Polytechnic University-Pomona\n",
      "10) Relay Graduate School of Education - California\n",
      "11) California State University-Chico\n",
      "12) California Institute of Integral Studies\n",
      "13) California State University-San Bernardino\n",
      "14) California State University-Stanislaus\n",
      "15) California State University-Bakersfield\n",
      "16) California Polytechnic State University-San Luis Obispo\n",
      "17) California Lutheran University\n",
      "18) California Institute of Technology\n",
      "19) University of California-Hastings College of Law\n",
      "20) California College of the Arts\n"
     ]
    },
    {
     "ename": "ValueError",
     "evalue": "invalid literal for int() with base 10: 'none'",
     "output_type": "error",
     "traceback": [
      "\u001b[1;31m---------------------------------------------------------------------------\u001b[0m",
      "\u001b[1;31mValueError\u001b[0m                                Traceback (most recent call last)",
      "Cell \u001b[1;32mIn[147], line 14\u001b[0m\n\u001b[0;32m     11\u001b[0m \u001b[38;5;28;01mfor\u001b[39;00m i \u001b[38;5;129;01min\u001b[39;00m \u001b[38;5;28mrange\u001b[39m(\u001b[38;5;241m0\u001b[39m, \u001b[38;5;28mlen\u001b[39m(school)):\n\u001b[0;32m     12\u001b[0m     \u001b[38;5;28mprint\u001b[39m(\u001b[38;5;28mstr\u001b[39m(i \u001b[38;5;241m+\u001b[39m \u001b[38;5;241m1\u001b[39m) \u001b[38;5;241m+\u001b[39m \u001b[38;5;124m'\u001b[39m\u001b[38;5;124m) \u001b[39m\u001b[38;5;124m'\u001b[39m \u001b[38;5;241m+\u001b[39m school[i][\u001b[38;5;124m'\u001b[39m\u001b[38;5;124mlatest\u001b[39m\u001b[38;5;124m'\u001b[39m][\u001b[38;5;124m'\u001b[39m\u001b[38;5;124mschool\u001b[39m\u001b[38;5;124m'\u001b[39m][\u001b[38;5;124m'\u001b[39m\u001b[38;5;124mname\u001b[39m\u001b[38;5;124m'\u001b[39m])\n\u001b[1;32m---> 14\u001b[0m choice_num \u001b[38;5;241m=\u001b[39m \u001b[38;5;28;43mint\u001b[39;49m\u001b[43m(\u001b[49m\u001b[38;5;28;43minput\u001b[39;49m\u001b[43m(\u001b[49m\u001b[38;5;124;43m\"\u001b[39;49m\u001b[38;5;124;43mEnter the list number of the school you\u001b[39;49m\u001b[38;5;124;43m'\u001b[39;49m\u001b[38;5;124;43mre looking for: \u001b[39;49m\u001b[38;5;124;43m\"\u001b[39;49m\u001b[43m)\u001b[49m\u001b[43m)\u001b[49m \u001b[38;5;241m-\u001b[39m \u001b[38;5;241m1\u001b[39m\n\u001b[0;32m     16\u001b[0m choice \u001b[38;5;241m=\u001b[39m school[choice_num][\u001b[38;5;124m'\u001b[39m\u001b[38;5;124mlatest\u001b[39m\u001b[38;5;124m'\u001b[39m]\n\u001b[0;32m     18\u001b[0m \u001b[38;5;28mprint\u001b[39m(\u001b[38;5;124m'\u001b[39m\u001b[38;5;124mSelection:\u001b[39m\u001b[38;5;124m'\u001b[39m, choice[\u001b[38;5;124m'\u001b[39m\u001b[38;5;124mschool\u001b[39m\u001b[38;5;124m'\u001b[39m][\u001b[38;5;124m'\u001b[39m\u001b[38;5;124mname\u001b[39m\u001b[38;5;124m'\u001b[39m])\n",
      "\u001b[1;31mValueError\u001b[0m: invalid literal for int() with base 10: 'none'"
     ]
    }
   ],
   "source": [
    "school = []\n",
    "\n",
    "while len(school) == 0:\n",
    "    query = input('What school do you want to look up? ')\n",
    "\n",
    "    query_data = requests.get(url_build(url, query))\n",
    "    temp = query_data.json()\n",
    "\n",
    "    school = temp['results']\n",
    "\n",
    "for i in range(0, len(school)):\n",
    "    print(str(i + 1) + ') ' + school[i]['latest']['school']['name'])\n",
    "\n",
    "def select_school():\n",
    "    temp = input(\"Enter the list number of the school you're looking for: \")\n",
    "    if int(temp) in range(0, len(school)):\n",
    "        return temp - 1\n",
    "    else:\n",
    "        temp = input(\"Enter the list number of the school you're looking for: \")\n",
    "\n",
    "#choice_num = int(input(\"Enter the list number of the school you're looking for: \")) - 1\n",
    "\n",
    "# choice = school[choice_num]['latest']\n",
    "\n",
    "# print('Selection:', choice['school']['name'])"
   ]
  },
  {
   "cell_type": "code",
   "execution_count": 146,
   "metadata": {},
   "outputs": [
    {
     "name": "stdout",
     "output_type": "stream",
     "text": [
      "Profile for University of California-Berkeley\n",
      "Acceptance rate: 11%\n",
      "SAT math : None\n",
      "SAT writing : 760\n",
      "SAT critical_reading : None\n"
     ]
    }
   ],
   "source": [
    "choice_school = choice['school']\n",
    "choice_admissions = choice['admissions']\n",
    "choice_cost = choice['cost']\n",
    "choice_aid = choice['aid']\n",
    "\n",
    "print('Profile for', choice_school['name'])\n",
    "print('Acceptance rate:', format(choice_admissions['admission_rate']['overall'], '.0%'))\n",
    "for key in choice_admissions['sat_scores']['75th_percentile']:\n",
    "    print('SAT', end=' ')\n",
    "    print(key, ':', choice_admissions['sat_scores']['75th_percentile'][key])"
   ]
  }
 ],
 "metadata": {
  "kernelspec": {
   "display_name": "Python 3",
   "language": "python",
   "name": "python3"
  },
  "language_info": {
   "codemirror_mode": {
    "name": "ipython",
    "version": 3
   },
   "file_extension": ".py",
   "mimetype": "text/x-python",
   "name": "python",
   "nbconvert_exporter": "python",
   "pygments_lexer": "ipython3",
   "version": "3.12.3"
  }
 },
 "nbformat": 4,
 "nbformat_minor": 2
}
